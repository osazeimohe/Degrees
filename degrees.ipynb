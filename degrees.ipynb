{
  "cells": [
    {
      "cell_type": "markdown",
      "metadata": {
        "id": "GxGA8Dk9F9Wb"
      },
      "source": [
        "## Degrees ##"
      ]
    },
    {
      "cell_type": "code",
      "execution_count": null,
      "metadata": {
        "id": "oaCPoZAoF9Wg"
      },
      "outputs": [],
      "source": [
        "import csv\n",
        "import sys\n",
        "\n",
        "from util import Node, StackFrontier, QueueFrontier\n"
      ]
    },
    {
      "cell_type": "code",
      "source": [
        "from zipfile import ZipFile"
      ],
      "metadata": {
        "id": "InghAVxpHgPU"
      },
      "execution_count": null,
      "outputs": []
    },
    {
      "cell_type": "code",
      "source": [
        "with ZipFile('/content/small.zip', 'r') as ZipObj:\n",
        "  ZipObj.extractall()"
      ],
      "metadata": {
        "id": "xEJp2pzpHxma"
      },
      "execution_count": null,
      "outputs": []
    },
    {
      "cell_type": "code",
      "execution_count": null,
      "metadata": {
        "id": "0tlTxpLhF9Wj"
      },
      "outputs": [],
      "source": [
        "# Maps names to a set of corresponding person_ids\n",
        "names = {}\n",
        "\n",
        "# Maps person_ids to a dictionary of: name, birth, movies (a set of movie_ids)\n",
        "people = {}\n",
        "\n",
        "# Maps movie_ids to a dictionary of: title, year, stars (a set of person_ids)\n",
        "movies = {}\n",
        "\n",
        "\n",
        "def load_data(directory):\n",
        "    \"\"\"\n",
        "    Load data from CSV files into memory.\n",
        "    \"\"\"\n",
        "    # Load people\n",
        "    with open(f\"{directory}/people.csv\", encoding=\"utf-8\") as f:\n",
        "        reader = csv.DictReader(f)\n",
        "        for row in reader:\n",
        "            people[row[\"id\"]] = {\n",
        "                \"name\": row[\"name\"],\n",
        "                \"birth\": row[\"birth\"],\n",
        "                \"movies\": set()\n",
        "            }\n",
        "            if row[\"name\"].lower() not in names:\n",
        "                names[row[\"name\"].lower()] = {row[\"id\"]}\n",
        "            else:\n",
        "                names[row[\"name\"].lower()].add(row[\"id\"])\n",
        "\n",
        "    # Load movies\n",
        "    with open(f\"{directory}/movies.csv\", encoding=\"utf-8\") as f:\n",
        "        reader = csv.DictReader(f)\n",
        "        for row in reader:\n",
        "            movies[row[\"id\"]] = {\n",
        "                \"title\": row[\"title\"],\n",
        "                \"year\": row[\"year\"],\n",
        "                \"stars\": set()\n",
        "            }\n",
        "\n",
        "    # Load stars\n",
        "    with open(f\"{directory}/stars.csv\", encoding=\"utf-8\") as f:\n",
        "        reader = csv.DictReader(f)\n",
        "        for row in reader:\n",
        "            try:\n",
        "                people[row[\"person_id\"]][\"movies\"].add(row[\"movie_id\"])\n",
        "                movies[row[\"movie_id\"]][\"stars\"].add(row[\"person_id\"])\n",
        "            except KeyError:\n",
        "                pass\n",
        "\n",
        "def person_id_for_name(name):\n",
        "    \"\"\"\n",
        "    Returns the IMDB id for a person's name,\n",
        "    resolving ambiguities as needed.\n",
        "    \"\"\"\n",
        "    person_ids = list(names.get(name.lower(), set()))\n",
        "    if len(person_ids) == 0:\n",
        "        return None\n",
        "    elif len(person_ids) > 1:\n",
        "        print(f\"Which '{name}'?\")\n",
        "        for person_id in person_ids:\n",
        "            person = people[person_id]\n",
        "            name = person[\"name\"]\n",
        "            birth = person[\"birth\"]\n",
        "            print(f\"ID: {person_id}, Name: {name}, Birth: {birth}\")\n",
        "        try:\n",
        "            person_id = input(\"Intended Person ID: \")\n",
        "            if person_id in person_ids:\n",
        "                return person_id\n",
        "        except ValueError:\n",
        "            pass\n",
        "        return None\n",
        "    else:\n",
        "        return person_ids[0]\n",
        "\n",
        "\n",
        "def neighbors_for_person(person_id):\n",
        "    \"\"\"\n",
        "    Returns (movie_id, person_id) pairs for people\n",
        "    who starred with a given person.\n",
        "    \"\"\"\n",
        "    movie_ids = people[person_id][\"movies\"]\n",
        "    neighbors = set()\n",
        "    for movie_id in movie_ids:\n",
        "        for person_id in movies[movie_id][\"stars\"]:\n",
        "            neighbors.add((movie_id, person_id))\n",
        "    return neighbors\n"
      ]
    },
    {
      "cell_type": "code",
      "execution_count": null,
      "metadata": {
        "id": "vgrZXMeuF9Wl"
      },
      "outputs": [],
      "source": [
        "## To be implemented\n",
        "def shortest_path( source, target ):\n",
        "    \"\"\"\n",
        "    Returns the shortest list of (movie_id, person_id) pairs\n",
        "    that connect the source to the target.\n",
        "\n",
        "    If no possible path, returns None.\n",
        "    \"\"\"\n",
        "\n",
        "    solution = list()\n",
        "    explored = set()\n",
        "\n",
        "    solution_found = False\n",
        "    empty = False\n",
        "\n",
        "    start = Node(state=source, parent=None, action=None)\n",
        "    frontier = QueueFrontier()\n",
        "    frontier.add(start)\n",
        "\n",
        "    while not solution_found:\n",
        "        if frontier.empty():\n",
        "            solution_found = True\n",
        "            empty = True\n",
        "        \n",
        "        # Choose a node from frontier\n",
        "        node = frontier.remove()\n",
        "\n",
        "        # If node is the target, then we have a solution\n",
        "        if node.state == target:\n",
        "            solution_found = True\n",
        "            while node.parent is not None:\n",
        "                pid, mid = node.state, node.action\n",
        "                solution.append((mid, pid))\n",
        "                node = node.parent\n",
        "            solution.reverse()\n",
        "\n",
        "        # Mark node as explored\n",
        "        explored.add(node)\n",
        "        neighbors = neighbors_for_person(node.state)\n",
        "\n",
        "        for neighbor in neighbors:\n",
        "            child = Node(state=neighbor[1], action=neighbor[0], parent=node)\n",
        "            # Add neighbor to frontier\n",
        "            frontier.add(child)\n",
        "\n",
        "            # If any child node from neighbors is the target, then we have a solution\n",
        "            if child.state == target:\n",
        "                solution_found = True\n",
        "                while child.parent is not None:\n",
        "                    pid, mid = child.state, child.action\n",
        "                    solution.append((mid, pid))\n",
        "                    child = child.parent\n",
        "                solution.reverse()\n",
        "\n",
        "    if solution_found:\n",
        "        if empty:\n",
        "            return None\n",
        "        return solution\n",
        "    # TODO\n",
        "    raise NotImplementedError\n"
      ]
    },
    {
      "cell_type": "code",
      "source": [],
      "metadata": {
        "id": "qn6THxNYVDzZ"
      },
      "execution_count": null,
      "outputs": []
    },
    {
      "cell_type": "code",
      "execution_count": null,
      "metadata": {
        "colab": {
          "base_uri": "https://localhost:8080/"
        },
        "id": "yg0FdhQBF9Wm",
        "outputId": "0e6791cb-3fdf-4048-8ac8-5cdf1c20ed73"
      },
      "outputs": [
        {
          "output_type": "stream",
          "name": "stdout",
          "text": [
            "Loading data...\n",
            "Data loaded.\n"
          ]
        }
      ],
      "source": [
        "## This cell works as the main - start working with the small folder and when you are done comment it and \n",
        "##comment out the line for the large folder\n",
        "\n",
        "##directory =\"./small\"\n",
        "directory=\"./large\"\n",
        "\n",
        "# Load data from files into memory\n",
        "print(\"Loading data...\")\n",
        "load_data(directory)\n",
        "print(\"Data loaded.\")\n",
        "\n"
      ]
    },
    {
      "cell_type": "code",
      "source": [
        "source = person_id_for_name(input(\"Name: \"))\n",
        "if source is None:\n",
        "    sys.exit(\"Person not found.\")\n",
        "target = person_id_for_name(input(\"Name: \"))\n",
        "if target is None:\n",
        "    sys.exit(\"Person not found.\")\n",
        "\n",
        "path = shortest_path(source, target)\n",
        "\n",
        "if path is None:\n",
        "    print(\"Not connected.\")\n",
        "else:\n",
        "    degrees = len(path)\n",
        "    print(f\"{degrees} degrees of separation.\")\n",
        "    path = [(None, source)] + path\n",
        "    for i in range(degrees):\n",
        "        person1 = people[path[i][1]][\"name\"]\n",
        "        person2 = people[path[i + 1][1]][\"name\"]\n",
        "        movie = movies[path[i + 1][0]][\"title\"]\n",
        "        print(f\"{i + 1}: {person1} and {person2} starred in {movie}\")\n"
      ],
      "metadata": {
        "colab": {
          "base_uri": "https://localhost:8080/"
        },
        "id": "TvDOVw75fWnN",
        "outputId": "d731d765-03f2-449d-9ebf-ad68dde4066f"
      },
      "execution_count": null,
      "outputs": [
        {
          "output_type": "stream",
          "name": "stdout",
          "text": [
            "Name: Frank Sinatra\n",
            "Name: Elton John\n",
            "3 degrees of separation.\n",
            "1: Frank Sinatra and George Kennedy starred in Dirty Dingus Magee\n",
            "2: George Kennedy and Oliver Reed starred in Hired to Kill\n",
            "3: Oliver Reed and Elton John starred in Tommy\n"
          ]
        }
      ]
    },
    {
      "cell_type": "code",
      "source": [],
      "metadata": {
        "id": "ONEjac4pf5mz"
      },
      "execution_count": null,
      "outputs": []
    }
  ],
  "metadata": {
    "kernelspec": {
      "display_name": "Python 3",
      "language": "python",
      "name": "python3"
    },
    "language_info": {
      "codemirror_mode": {
        "name": "ipython",
        "version": 3
      },
      "file_extension": ".py",
      "mimetype": "text/x-python",
      "name": "python",
      "nbconvert_exporter": "python",
      "pygments_lexer": "ipython3",
      "version": "3.7.1"
    },
    "colab": {
      "provenance": []
    }
  },
  "nbformat": 4,
  "nbformat_minor": 0
}